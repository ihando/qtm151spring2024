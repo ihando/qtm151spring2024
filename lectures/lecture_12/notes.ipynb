{
 "cells": [
  {
   "cell_type": "code",
   "execution_count": null,
   "metadata": {},
   "outputs": [],
   "source": [
    "Lecture 8 - Lambda functions, apply\n",
    "Lecture 10 - Subsetting, iloc, query, overlapping plots\n",
    "Lecture 11 - Plotting Linear regression, line of best fit\n",
    "Lecture 12 - Data cleaning with NANS, Recoding variables to diff types"
   ]
  }
 ],
 "metadata": {
  "language_info": {
   "name": "python"
  }
 },
 "nbformat": 4,
 "nbformat_minor": 2
}
